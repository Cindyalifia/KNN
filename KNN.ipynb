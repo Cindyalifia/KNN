{
 "cells": [
  {
   "cell_type": "code",
   "execution_count": 25,
   "metadata": {},
   "outputs": [],
   "source": [
    "import pandas as pd\n",
    "import numpy as np\n",
    "import math\n",
    "from operator import itemgetter\n",
    "from statistics import mode\n",
    "from scipy.stats import mode"
   ]
  },
  {
   "cell_type": "code",
   "execution_count": 26,
   "metadata": {},
   "outputs": [],
   "source": [
    "dataTrain = np.genfromtxt('DataTrain_Tugas3_AI.csv', delimiter=\",\")\n",
    "dataTest = np.genfromtxt('DataTest_Tugas3_AI.csv', delimiter=\",\")\n",
    "\n",
    "dataTest = np.delete(dataTest, (0), axis=0)\n",
    "dataTrain = np.delete(dataTrain, (0), axis=0)"
   ]
  },
  {
   "cell_type": "code",
   "execution_count": 27,
   "metadata": {},
   "outputs": [],
   "source": [
    "dataValidasi = []\n",
    "dataTrainValidasi = []\n",
    "for i in range (200) :\n",
    "    dataValidasi.append(dataTrain[i])\n",
    "for item in range (200, 800, +1) :\n",
    "    dataTrainValidasi.append(dataTrain[item])\n",
    "# pd.DataFrame(dataValidasi, columns=[\"data ke-\",\"X1\",\"X2\",\"X3\",\"X4\",\"X5\",\"Y\"])"
   ]
  },
  {
   "cell_type": "code",
   "execution_count": 28,
   "metadata": {},
   "outputs": [],
   "source": [
    "def euclideanDistance(x1,x2) :\n",
    "    return math.sqrt(math.pow((x2[1]-x1[1]),2) + math.pow((x2[2]-x1[2]),2) + math.pow((x2[3]-x1[3]),2) + math.pow((x2[4]-x1[4]),2) + math.pow((x2[5]-x1[5]),2))"
   ]
  },
  {
   "cell_type": "code",
   "execution_count": 29,
   "metadata": {},
   "outputs": [],
   "source": [
    "def knnFunction(k, tes, train) :\n",
    "    temp = []\n",
    "    distance = []\n",
    "    #lakukan brute force tiap 1 data tes ke semua data train\n",
    "    for item in range (len(tes)) :\n",
    "        for i in range (len(train)) :\n",
    "            temp.append(item + 1)\n",
    "            temp.append(euclideanDistance(tes[item], train[i]))\n",
    "            temp.append(int(train[i][6]))\n",
    "            distance.append(temp)\n",
    "            temp = []\n",
    "    distance = np.array(distance)\n",
    "    \n",
    "    #untuk memisahkan array pada data ke - i\n",
    "    #ini yang tampil nanti pd.DataFrame(arr[199], columns=[\"Data test ke - \",\"Nilai euclidean\",\"Klasifikasi\"])\n",
    "    i = 1\n",
    "    arr = []\n",
    "    while i <=  len(tes) :\n",
    "        arr.append(distance[distance[:,0] == i])\n",
    "        i += 1\n",
    "    \n",
    "    #untuk mengurutkan array berdasarkan nilai euclid\n",
    "    # ini yang tampil nanti pd.DataFrame(arSort[199], columns=[\"Data test ke - \",\"Nilai euclidean\",\"Klasifikasi\"])\n",
    "    arSort = []\n",
    "    for n in range (len(tes)) :\n",
    "        arSort.append(sorted(arr[n], key=itemgetter(1)))\n",
    "    \n",
    "    #mengambil k nilai terkecil\n",
    "    #ini yang tampil nanti pd.DataFrame(arrKNN[199], columns=[\"Data test ke - \",\"Nilai euclidean\",\"Klasifikasi\"])\n",
    "    arrKNN = []\n",
    "    temp = []\n",
    "    for i in range (len(tes)) :\n",
    "        for n in range (k) :\n",
    "            temp.append(arSort[i][n])\n",
    "        arrKNN.append(temp)\n",
    "        temp = []\n",
    "    \n",
    "    #mengambil kolom klasifikasi\n",
    "    temp = []\n",
    "    klasifikasiClass = []\n",
    "    for i in range (len(tes)) :\n",
    "        for n in range (k) :\n",
    "            temp.append(arrKNN[i][n][2])\n",
    "        klasifikasiClass.append(mode(temp))\n",
    "        temp = []\n",
    "        \n",
    "    return klasifikasiClass"
   ]
  },
  {
   "cell_type": "code",
   "execution_count": 30,
   "metadata": {
    "scrolled": true
   },
   "outputs": [],
   "source": [
    "def cariNilaiK(dataValidasi, dataTrainValidasi) :\n",
    "    hmm = []\n",
    "    j = 0\n",
    "    arrayDataValidasi = []\n",
    "    for i in range (len(dataValidasi)) :\n",
    "        s = knnFunction(i+1, dataValidasi, dataTrainValidasi)\n",
    "        hmm.append(i+1)\n",
    "        for item in range (len(dataValidasi)) :\n",
    "            if s[item][0] == dataValidasi[item][6] :\n",
    "                j += 1\n",
    "        hmm.append(j)\n",
    "        arrayDataValidasi.append(hmm)\n",
    "        hmm = []\n",
    "        j = 0\n",
    "        \n",
    "    nilaiMaks = (max(arrayDataValidasi, key=itemgetter(1)))\n",
    "    return nilaiMaks"
   ]
  },
  {
   "cell_type": "code",
   "execution_count": 31,
   "metadata": {},
   "outputs": [],
   "source": [
    "#data train di split menjadi 10 bagian\n",
    "j = 0\n",
    "arrayValidasi = []\n",
    "while j < 800 :\n",
    "    dataValidasi = []\n",
    "    dataTrainValidasi = []\n",
    "    for i in range (j, j+80, +1) :\n",
    "        dataValidasi.append(dataTrain[i])\n",
    "    for i in range (j) :\n",
    "        dataTrainValidasi.append(dataTrain[i])\n",
    "    for item in range (j+80, 800, +1) :\n",
    "        dataTrainValidasi.append(dataTrain[item])\n",
    "    arrayValidasi.append(cariNilaiK(dataValidasi, dataTrainValidasi))\n",
    "    j += 80"
   ]
  },
  {
   "cell_type": "code",
   "execution_count": 32,
   "metadata": {},
   "outputs": [
    {
     "data": {
      "text/html": [
       "<div>\n",
       "<style scoped>\n",
       "    .dataframe tbody tr th:only-of-type {\n",
       "        vertical-align: middle;\n",
       "    }\n",
       "\n",
       "    .dataframe tbody tr th {\n",
       "        vertical-align: top;\n",
       "    }\n",
       "\n",
       "    .dataframe thead th {\n",
       "        text-align: right;\n",
       "    }\n",
       "</style>\n",
       "<table border=\"1\" class=\"dataframe\">\n",
       "  <thead>\n",
       "    <tr style=\"text-align: right;\">\n",
       "      <th></th>\n",
       "      <th>0</th>\n",
       "      <th>1</th>\n",
       "    </tr>\n",
       "  </thead>\n",
       "  <tbody>\n",
       "    <tr>\n",
       "      <th>0</th>\n",
       "      <td>2</td>\n",
       "      <td>71</td>\n",
       "    </tr>\n",
       "    <tr>\n",
       "      <th>1</th>\n",
       "      <td>8</td>\n",
       "      <td>70</td>\n",
       "    </tr>\n",
       "    <tr>\n",
       "      <th>2</th>\n",
       "      <td>2</td>\n",
       "      <td>73</td>\n",
       "    </tr>\n",
       "    <tr>\n",
       "      <th>3</th>\n",
       "      <td>7</td>\n",
       "      <td>72</td>\n",
       "    </tr>\n",
       "    <tr>\n",
       "      <th>4</th>\n",
       "      <td>5</td>\n",
       "      <td>67</td>\n",
       "    </tr>\n",
       "    <tr>\n",
       "      <th>5</th>\n",
       "      <td>9</td>\n",
       "      <td>71</td>\n",
       "    </tr>\n",
       "    <tr>\n",
       "      <th>6</th>\n",
       "      <td>13</td>\n",
       "      <td>70</td>\n",
       "    </tr>\n",
       "    <tr>\n",
       "      <th>7</th>\n",
       "      <td>3</td>\n",
       "      <td>74</td>\n",
       "    </tr>\n",
       "    <tr>\n",
       "      <th>8</th>\n",
       "      <td>9</td>\n",
       "      <td>66</td>\n",
       "    </tr>\n",
       "    <tr>\n",
       "      <th>9</th>\n",
       "      <td>1</td>\n",
       "      <td>74</td>\n",
       "    </tr>\n",
       "  </tbody>\n",
       "</table>\n",
       "</div>"
      ],
      "text/plain": [
       "    0   1\n",
       "0   2  71\n",
       "1   8  70\n",
       "2   2  73\n",
       "3   7  72\n",
       "4   5  67\n",
       "5   9  71\n",
       "6  13  70\n",
       "7   3  74\n",
       "8   9  66\n",
       "9   1  74"
      ]
     },
     "execution_count": 32,
     "metadata": {},
     "output_type": "execute_result"
    }
   ],
   "source": [
    "pd.DataFrame(arrayValidasi)"
   ]
  },
  {
   "cell_type": "code",
   "execution_count": 33,
   "metadata": {},
   "outputs": [
    {
     "name": "stdout",
     "output_type": "stream",
     "text": [
      "3\n"
     ]
    }
   ],
   "source": [
    "k = max(arrayValidasi, key=itemgetter(1))\n",
    "print (k[0])"
   ]
  },
  {
   "cell_type": "code",
   "execution_count": 54,
   "metadata": {},
   "outputs": [],
   "source": [
    "klasifikasiArray = knnFunction(k[0], dataTest, dataTrain)\n",
    "kalsifikasiArray = np.array(klasifikasiArray)"
   ]
  },
  {
   "cell_type": "code",
   "execution_count": 57,
   "metadata": {},
   "outputs": [],
   "source": [
    "np.savetxt(\"TebakanTugas3.csv\",[x[0] for x in klasifikasiArray],delimiter=\",\")"
   ]
  }
 ],
 "metadata": {
  "kernelspec": {
   "display_name": "Python 3",
   "language": "python",
   "name": "python3"
  },
  "language_info": {
   "codemirror_mode": {
    "name": "ipython",
    "version": 3
   },
   "file_extension": ".py",
   "mimetype": "text/x-python",
   "name": "python",
   "nbconvert_exporter": "python",
   "pygments_lexer": "ipython3",
   "version": "3.7.0"
  }
 },
 "nbformat": 4,
 "nbformat_minor": 2
}
